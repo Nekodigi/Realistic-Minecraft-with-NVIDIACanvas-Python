{
 "cells": [
  {
   "cell_type": "markdown",
   "id": "c578de87-4031-42fd-a0b7-86878765f309",
   "metadata": {},
   "source": [
    "# Nvidia Canvas From Image"
   ]
  },
  {
   "cell_type": "markdown",
   "id": "f639496f-4367-4c99-aade-3b05b9308856",
   "metadata": {},
   "source": [
    "* requires<br>\n",
    "Pyautogui<br>\n",
    "OpenCV<br>\n",
    "numpy<br>\n",
    "PIL<br>\n",
    "matplotlib<br>\n",
    "### Constant"
   ]
  },
  {
   "cell_type": "code",
   "execution_count": 1,
   "id": "5b5e556d-96cc-4eb8-9e20-a6d782378f0d",
   "metadata": {},
   "outputs": [],
   "source": [
    "density = 50"
   ]
  },
  {
   "cell_type": "markdown",
   "id": "42299694-4c0c-4dea-b70f-5466324d7de1",
   "metadata": {},
   "source": [
    "## Image to index with color"
   ]
  },
  {
   "cell_type": "code",
   "execution_count": 2,
   "id": "3ba18610-fac3-4742-9ec7-10cf7c5975f4",
   "metadata": {},
   "outputs": [],
   "source": [
    "import numpy as np\n",
    "colors = np.array([[152, 215, 255],[255, 255, 255],[117, 174, 72],[103, 76, 53],[100, 101, 102], None,[48, 146, 32],[217, 208, 158],None,[41, 51, 182], None,None,None,None,None], dtype=object)#minecraft optimized\n",
    "def nearestColor(c):\n",
    "    nearestColor = None\n",
    "    index = -1\n",
    "    minDist = 100000#positive infinity\n",
    "    for i, color in enumerate(colors):\n",
    "        if color is None:\n",
    "            continue\n",
    "        dr = abs(c[0]-color[0])\n",
    "        dg = abs(c[1]-color[1])\n",
    "        db = abs(c[2]-color[2])\n",
    "        dist = dr+dg+db\n",
    "        if dist < minDist:\n",
    "            minDist = dist\n",
    "            nearestColor = color\n",
    "            index = i\n",
    "    return nearestColor, index"
   ]
  },
  {
   "cell_type": "code",
   "execution_count": 5,
   "id": "f29d367f-8e19-49f4-8db4-0f15afdd9e43",
   "metadata": {},
   "outputs": [
    {
     "data": {
      "image/png": "[encoded data removed]",
      "text/plain": [
       "<Figure size 432x288 with 1 Axes>"
      ]
     },
     "metadata": {
      "needs_background": "light"
     },
     "output_type": "display_data"
    }
   ],
   "source": [
    "from PIL import Image\n",
    "import matplotlib.pyplot as plt\n",
    "import numpy as np\n",
    "\n",
    "image = Image.open('test.png')\n",
    "image = image.resize((density, density))\n",
    "indexes = np.zeros((density, density))\n",
    "\n",
    "\n",
    "rgb_im = image.convert('RGB')#RGB\n",
    "\n",
    "plt.imshow(rgb_im, interpolation=\"None\")\n",
    "\n",
    "size = rgb_im.size\n",
    "\n",
    "#loop\n",
    "#x\n",
    "for x in range(size[0]):\n",
    "    #y\n",
    "    for y in range(size[1]):\n",
    "        rgb = rgb_im.getpixel((x,y))\n",
    "        rgb, i = nearestColor(rgb)\n",
    "        indexes[x,y] = i\n",
    "        #set pixel\n",
    "        #rgb_im.putpixel((x,y),(r,g,b,1))\n",
    "        rgb_im.putpixel((x,y),(rgb[0],rgb[1],rgb[2],1))\n",
    "\n",
    "#show\n",
    "#im2.show()\n",
    "\n",
    "#plt.imshow(indexes.transpose(), interpolation=\"None\")\n",
    "#plt.imshow(rgb_im, interpolation=\"None\")"
   ]
  },
  {
   "cell_type": "markdown",
   "id": "5939a573-c10b-4eea-bb34-959ddb379b2d",
   "metadata": {},
   "source": [
    "## Image to index with hue(Legacy)"
   ]
  },
  {
   "cell_type": "code",
   "execution_count": 57,
   "id": "13377197-91fa-4c0d-be3f-ced68059a1ea",
   "metadata": {},
   "outputs": [],
   "source": [
    "import numpy as np\n",
    "#hues = [168,0,83,104,30,80,73,60,240,199,268,222,270,85,326]\n",
    "hues = np.array([203,0,93,24,210, -100,111,50,-100,-100, -100,236,-100,-100,-100])#minecraft optimized\n",
    "hues = hues / 360 * 255\n",
    "hues = hues.astype(int)\n",
    "def nearestHue(h):\n",
    "    nearestHue = 0\n",
    "    minDist = 100000#positive infinity\n",
    "    for hue in hues:\n",
    "        dist = abs(hue-h)\n",
    "        if dist < minDist:\n",
    "            minDist = dist\n",
    "            nearestHue = hue\n",
    "    return nearestHue"
   ]
  },
  {
   "cell_type": "code",
   "execution_count": 60,
   "id": "e4786401-f4f6-412a-ba32-01c8d0151160",
   "metadata": {
    "jupyter": {
     "source_hidden": true
    },
    "tags": []
   },
   "outputs": [
    {
     "data": {
      "text/plain": [
       "<matplotlib.image.AxesImage at 0x1e6c2a60fd0>"
      ]
     },
     "execution_count": 60,
     "metadata": {},
     "output_type": "execute_result"
    },
    {
     "data": {
      "image/png": "[encoded data removed]",
      "text/plain": [
       "<Figure size 432x288 with 1 Axes>"
      ]
     },
     "metadata": {
      "needs_background": "light"
     },
     "output_type": "display_data"
    }
   ],
   "source": [
    "from PIL import Image\n",
    "import matplotlib.pyplot as plt\n",
    "import numpy as np\n",
    "\n",
    "image = Image.open('minecraft.png')\n",
    "image = image.resize((density, density))\n",
    "indexes = np.zeros((density, density))\n",
    "\n",
    "\n",
    "hsv_im = image.convert('HSV')#RGB\n",
    "\n",
    "plt.imshow(hsv_im, interpolation=\"None\")\n",
    "\n",
    "size = hsv_im.size\n",
    "\n",
    "#loop\n",
    "#x\n",
    "for x in range(size[0]):\n",
    "    #y\n",
    "    for y in range(size[1]):\n",
    "        #r,g,b = rgb_im.getpixel((x,y))\n",
    "        h,s,v = hsv_im.getpixel((x,y))\n",
    "        #print(h)\n",
    "        #反転処理\n",
    "        #r = 255 - r\n",
    "        #g = 255 - g\n",
    "        #b = 255 - b\n",
    "        h = nearestHue(h)\n",
    "        indexes[x,y] = np.where(hues==h)[0]\n",
    "        #set pixel\n",
    "        #rgb_im.putpixel((x,y),(r,g,b,1))\n",
    "        hsv_im.putpixel((x,y),(h,255,255,1))\n",
    "\n",
    "#show\n",
    "#im2.show()\n",
    "\n",
    "#plt.imshow(indexes.transpose(), interpolation=\"None\")\n",
    "plt.imshow(hsv_im, interpolation=\"None\")"
   ]
  },
  {
   "cell_type": "markdown",
   "id": "98d851f3-aaaf-45fd-9096-0e2691535c6d",
   "metadata": {},
   "source": [
    "## Draw with pyautogui"
   ]
  },
  {
   "cell_type": "code",
   "execution_count": 12,
   "id": "8c3d6c88-74ee-41c7-ac79-6de28db1c2fc",
   "metadata": {},
   "outputs": [],
   "source": [
    "import math\n",
    "import pyautogui as pag\n",
    "\n",
    "def boxCenter(box):\n",
    "    return box.left+box.width/2, box.top+box.height/2\n",
    "\n",
    "aib = pag.locateOnScreen(\"air.png\", confidence=0.95)\n",
    "stb = pag.locateOnScreen(\"stonewall.png\", confidence=0.95)\n",
    "aix, aiy = boxCenter(aib)\n",
    "stx, sty = boxCenter(stb)\n",
    "\n",
    "def materialSelect(index):\n",
    "    i = index%5\n",
    "    j = math.floor(index/5)\n",
    "    x = aix+(stx-aix)*i/4\n",
    "    y = aiy+(sty-aiy)*j/2\n",
    "    pag.click(x, y)"
   ]
  },
  {
   "cell_type": "code",
   "execution_count": 18,
   "id": "847ec157-80fe-497e-8319-c303de0d32ed",
   "metadata": {},
   "outputs": [],
   "source": [
    "import pyautogui as pag\n",
    "import numpy as np\n",
    "from time import sleep\n",
    "\n",
    "\n",
    "\n",
    "tlb = pag.locateOnScreen(\"tl.png\", confidence=0.95)\n",
    "brb = pag.locateOnScreen(\"br.png\", confidence=0.95)\n",
    "tlx, tly = boxCenter(tlb)\n",
    "brx, bry = boxCenter(brb)\n",
    "\n",
    "\n",
    "pag.click(tlb)\n",
    "materialSelect(4)\n",
    "materialSelect(0)\n",
    "\n",
    "\n",
    "# pag.click(tlb)\n",
    "# xs = np.linspace(tlx, brx, density)\n",
    "# ys = np.linspace(tly, bry, density)\n",
    "# for x in xs:\n",
    "#     for y in ys:\n",
    "#         pag.click(x, y)\n"
   ]
  },
  {
   "cell_type": "code",
   "execution_count": null,
   "id": "ff31d85b-0fc2-4a17-8e0c-bd70916bd3c2",
   "metadata": {},
   "outputs": [],
   "source": []
  },
  {
   "cell_type": "code",
   "execution_count": null,
   "id": "ab56f2b5-2232-4aec-a222-e0e44af3156b",
   "metadata": {},
   "outputs": [],
   "source": []
  }
 ],
 "metadata": {
  "kernelspec": {
   "display_name": "Python 3",
   "language": "python",
   "name": "python3"
  },
  "language_info": {
   "codemirror_mode": {
    "name": "ipython",
    "version": 3
   },
   "file_extension": ".py",
   "mimetype": "text/x-python",
   "name": "python",
   "nbconvert_exporter": "python",
   "pygments_lexer": "ipython3",
   "version": "3.8.8"
  }
 },
 "nbformat": 4,
 "nbformat_minor": 5
}
